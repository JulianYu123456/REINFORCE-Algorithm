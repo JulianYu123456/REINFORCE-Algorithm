{
 "cells": [
  {
   "cell_type": "code",
   "execution_count": 1,
   "metadata": {},
   "outputs": [],
   "source": [
    "%load_ext autoreload\n",
    "%autoreload 2"
   ]
  },
  {
   "cell_type": "code",
   "execution_count": 2,
   "metadata": {},
   "outputs": [],
   "source": [
    "# Start virtual display\n",
    "# pip install PyVirtualDisplay\n",
    "# sudo apt-get install xvfb\n",
    "\n",
    "from pyvirtualdisplay import Display\n",
    "display = Display(visible=0, size=(1024, 768))\n",
    "display.start()\n",
    "import os\n",
    "os.environ[\"DISPLAY\"] = \":\" + str(display.display) + \".\" + str(display.screen)"
   ]
  },
  {
   "cell_type": "code",
   "execution_count": 3,
   "metadata": {},
   "outputs": [
    {
     "name": "stderr",
     "output_type": "stream",
     "text": [
      "Using TensorFlow backend.\n"
     ]
    }
   ],
   "source": [
    "from REINFORCE_helper import RunningVariance\n",
    "from time import time\n",
    "from REINFORCE_helper import BaseAgent, format_as_pandas\n",
    "from keras.models import Sequential, Model\n",
    "from keras.layers import Dense, Input\n",
    "from keras.optimizers import Adam, SGD\n",
    "import keras.backend as K\n",
    "import numpy as np"
   ]
  },
  {
   "cell_type": "code",
   "execution_count": 102,
   "metadata": {},
   "outputs": [],
   "source": [
    "class ReinforceAgent(BaseAgent):\n",
    "    # def __init__(self):\n",
    "    def actor_critic_loss_continuous(self, advantage):\n",
    "        def loss(y_true, y_pred):\n",
    "            var = K.square(self.noise)\n",
    "            denom = K.sqrt(2.0 * np.pi * var)\n",
    "            prob_num = K.exp(- K.square(y_true - y_pred) / (2.0 * var))\n",
    "            prob = prob_num/denom\n",
    "            return -K.mean(prob * advantage)\n",
    "        return loss\n",
    "    \n",
    "    def get_policy_model(self, lr=0.001, hidden_layer_neurons = 128, input_shape=[4], output_shape=2):\n",
    "        state_input = Input(shape=input_shape)\n",
    "        advantage = Input(shape=(1,))\n",
    "        x = Dense(hidden_layer_neurons, activation='relu')(state_input)\n",
    "        x = Dense(hidden_layer_neurons, activation='relu')(x)\n",
    "        out_actions = Dense(output_shape, activation='tanh')(x)\n",
    "        \n",
    "        model = Model(inputs=[state_input, advantage], outputs=[out_actions])\n",
    "        model.compile(Adam(lr), loss=self.actor_critic_loss_continuous(advantage))\n",
    "        return model\n",
    "    \n",
    "    def get_action(self, eval=False):\n",
    "        dummy_adv = np.zeros((1, 1))\n",
    "        obs = self.scaler.transform(self.observation.reshape(1, self.nS))\n",
    "        p = self.model.predict([obs, dummy_adv])*self.env.action_space.high\n",
    "        if eval is False:\n",
    "            action = action_one_hot = p[0] + np.random.normal(loc=0, scale=self.noise, size=p[0].shape)\n",
    "            # action = action_one_hot = np.clip(action, self.env.action_space.low, self.env.action_space.high)\n",
    "        else:\n",
    "            action = action_one_hot = p[0]\n",
    "        \n",
    "        return action, action_one_hot, p\n",
    "    \n",
    "    \n",
    "    def get_entropy(self, preds, epsilon=1e-12):\n",
    "        # entropy = np.mean(-np.sum(np.log(preds+epsilon)*preds, axis=1)/np.log(self.nA))\n",
    "        return 1\n",
    "    \n",
    "    def get_discounted_rewards(self, r):\n",
    "        # Por si es una lista\n",
    "        r = np.array(r, dtype=float)\n",
    "        \"\"\"Take 1D float array of rewards and compute discounted reward \"\"\"\n",
    "        discounted_r = np.zeros_like(r)\n",
    "        running_add = 0\n",
    "        for t in reversed(range(0, r.size)):\n",
    "            running_add = running_add * self.gamma + r[t]\n",
    "            discounted_r[t] = running_add\n",
    "        return discounted_r "
   ]
  },
  {
   "cell_type": "code",
   "execution_count": 103,
   "metadata": {},
   "outputs": [
    {
     "name": "stdout",
     "output_type": "stream",
     "text": [
      "Warning: El espacio de acción es continuo\n"
     ]
    }
   ],
   "source": [
    "# reinforce_agent = ReinforceAgent('MountainCarContinuous-v0', n_experience_episodes=2, EPISODES=2000, epochs=1, lr=0.001, algorithm='REINFORCE_CAUSAL')\n",
    "reinforce_agent = ReinforceAgent('Pendulum-v0', n_experience_episodes=2, EPISODES=2000, epochs=1, lr=0.001, algorithm='REINFORCE_CAUSAL')"
   ]
  },
  {
   "cell_type": "code",
   "execution_count": 104,
   "metadata": {},
   "outputs": [
    {
     "name": "stdout",
     "output_type": "stream",
     "text": [
      "[-2.] [2.]\n"
     ]
    }
   ],
   "source": [
    "print(reinforce_agent.env.action_space.low,\n",
    "reinforce_agent.env.action_space.high)"
   ]
  },
  {
   "cell_type": "code",
   "execution_count": 105,
   "metadata": {},
   "outputs": [
    {
     "name": "stdout",
     "output_type": "stream",
     "text": [
      "Model: \"model_44\"\n",
      "_________________________________________________________________\n",
      "Layer (type)                 Output Shape              Param #   \n",
      "=================================================================\n",
      "input_87 (InputLayer)        (None, 3)                 0         \n",
      "_________________________________________________________________\n",
      "dense_87 (Dense)             (None, 128)               512       \n",
      "_________________________________________________________________\n",
      "dense_88 (Dense)             (None, 128)               16512     \n",
      "_________________________________________________________________\n",
      "dense_89 (Dense)             (None, 1)                 129       \n",
      "=================================================================\n",
      "Total params: 17,153\n",
      "Trainable params: 17,153\n",
      "Non-trainable params: 0\n",
      "_________________________________________________________________\n"
     ]
    }
   ],
   "source": [
    "reinforce_agent.model.summary()"
   ]
  },
  {
   "cell_type": "code",
   "execution_count": 93,
   "metadata": {},
   "outputs": [],
   "source": [
    "obs, actions, preds, disc_sum_rews, rewards, ep_returns, ep_len, last_obs, time_step = reinforce_agent.get_experience_episodes(return_ts=True)"
   ]
  },
  {
   "cell_type": "code",
   "execution_count": 94,
   "metadata": {},
   "outputs": [
    {
     "name": "stdout",
     "output_type": "stream",
     "text": [
      "[[ 0.36114624]\n",
      " [-0.42074557]\n",
      " [ 0.6688807 ]\n",
      " [-0.92075621]\n",
      " [ 1.05991216]\n",
      " [ 1.03843525]\n",
      " [-0.00721554]\n",
      " [ 0.15000625]\n",
      " [ 0.32128172]\n",
      " [-0.24326977]]\n"
     ]
    }
   ],
   "source": [
    "print(actions[:10])"
   ]
  },
  {
   "cell_type": "code",
   "execution_count": 95,
   "metadata": {},
   "outputs": [
    {
     "name": "stdout",
     "output_type": "stream",
     "text": [
      "[[-0.45008335]\n",
      " [-0.42323685]\n",
      " [-0.38358575]\n",
      " [-0.33727542]\n",
      " [-0.28008452]\n",
      " [-0.22031565]\n",
      " [-0.15635855]\n",
      " [-0.10698768]\n",
      " [-0.05212078]\n",
      " [-0.00946408]]\n"
     ]
    }
   ],
   "source": [
    "print(preds[:10])"
   ]
  },
  {
   "cell_type": "code",
   "execution_count": 96,
   "metadata": {},
   "outputs": [
    {
     "data": {
      "text/plain": [
       "array([[ 0.98309396, -0.18310182, -0.67377843],\n",
       "       [ 0.97546183, -0.22016862, -0.75693285],\n",
       "       [ 0.96343783, -0.26793198, -0.98517115],\n",
       "       ...,\n",
       "       [-0.99940213, -0.03457426,  1.12025402],\n",
       "       [-0.997022  , -0.07711764,  0.85226262],\n",
       "       [-0.99275453, -0.12016004,  0.86513613]])"
      ]
     },
     "execution_count": 96,
     "metadata": {},
     "output_type": "execute_result"
    }
   ],
   "source": [
    "obs"
   ]
  },
  {
   "cell_type": "code",
   "execution_count": null,
   "metadata": {},
   "outputs": [
    {
     "name": "stdout",
     "output_type": "stream",
     "text": [
      "Warning: El espacio de acción es continuo\n",
      "correr en linea de comando: tensorboard --logdir logs/\n",
      "Episode: 50\n",
      "Model on episode 51 improved from -inf to -1483.051074865203. Saved!\n",
      "Episode: 102\n",
      "Model on episode 103 improved from -1483.051074865203 to -1476.4650769870486. Saved!\n",
      "Episode: 206\n",
      "Model on episode 207 improved from -1476.4650769870486 to -1473.8844601800115. Saved!\n",
      "Episode: 1038\n",
      "Model on episode 1039 improved from -1404.9479166598744 to -1370.6277389063318. Saved!\n",
      "Episode: 6577"
     ]
    }
   ],
   "source": [
    "# reinforce_agent = ReinforceAgent('MountainCarContinuous-v0', n_experience_episodes=1, \n",
    "#                                  EPISODES=2000, epochs=1, lr=0.0001, algorithm='CONTINUOUS_CAUSAL', noise=1.5)\n",
    "\n",
    "reinforce_agent = ReinforceAgent('Pendulum-v0', n_experience_episodes=1, \n",
    "                                 EPISODES=10000, epochs=1, lr=0.0001, algorithm='CONTINUOUS_CAUSAL', noise=2.0)\n",
    "\n",
    "initial_time = time()\n",
    "running_variance = RunningVariance()\n",
    "\n",
    "\n",
    "while reinforce_agent.episode < reinforce_agent.EPISODES:\n",
    "    obs, actions, preds, disc_sum_rews, rewards, ep_returns, ep_len, last_obs = reinforce_agent.get_experience_episodes()\n",
    "    \n",
    "    for dr in disc_sum_rews:\n",
    "        running_variance.add(dr)\n",
    "\n",
    "    \n",
    "    history = reinforce_agent.model.fit([obs, disc_sum_rews.reshape(-1, 1)], \n",
    "                                        actions, verbose=0, \n",
    "                                        epochs=reinforce_agent.epochs, \n",
    "                                        batch_size=1)\n",
    "    \n",
    "    reinforce_agent.log_data(reinforce_agent.episode, \n",
    "                      history.history['loss'][0], \n",
    "                      np.mean(ep_len), \n",
    "                      reinforce_agent.get_entropy(preds), \n",
    "                      running_variance.get_variance(), \n",
    "                      None, \n",
    "                      time() - initial_time, np.mean(ep_returns[-1]))"
   ]
  },
  {
   "cell_type": "code",
   "execution_count": 51,
   "metadata": {},
   "outputs": [],
   "source": [
    "from matplotlib import pyplot as plt"
   ]
  },
  {
   "cell_type": "code",
   "execution_count": 53,
   "metadata": {},
   "outputs": [],
   "source": [
    "# obs, actions, preds, disc_sum_rews, rewards, ep_returns, ep_len = reinforce_agent.get_eval_episode('MountainCarContinuous.gif', fps=50)\n",
    "obs, actions, preds, disc_sum_rews, rewards, ep_returns, ep_len = reinforce_agent.get_eval_episode()"
   ]
  },
  {
   "cell_type": "code",
   "execution_count": 54,
   "metadata": {},
   "outputs": [
    {
     "data": {
      "text/plain": [
       "[<matplotlib.lines.Line2D at 0x7fc9f5cc07f0>]"
      ]
     },
     "execution_count": 54,
     "metadata": {},
     "output_type": "execute_result"
    },
    {
     "data": {
      "image/png": "[encoded data removed]",
      "text/plain": [
       "<Figure size 432x288 with 1 Axes>"
      ]
     },
     "metadata": {
      "needs_background": "light"
     },
     "output_type": "display_data"
    }
   ],
   "source": [
    "plt.plot(preds)\n",
    "plt.plot(actions)"
   ]
  },
  {
   "cell_type": "code",
   "execution_count": 49,
   "metadata": {},
   "outputs": [],
   "source": [
    "obs, actions, preds, disc_sum_rews, rewards, ep_returns, ep_len, last_obs = reinforce_agent.get_experience_episodes()"
   ]
  },
  {
   "cell_type": "code",
   "execution_count": 52,
   "metadata": {},
   "outputs": [
    {
     "data": {
      "text/plain": [
       "[<matplotlib.lines.Line2D at 0x7fc9f5d533c8>]"
      ]
     },
     "execution_count": 52,
     "metadata": {},
     "output_type": "execute_result"
    },
    {
     "data": {
      "image/png": "[encoded data removed]",
      "text/plain": [
       "<Figure size 432x288 with 1 Axes>"
      ]
     },
     "metadata": {
      "needs_background": "light"
     },
     "output_type": "display_data"
    }
   ],
   "source": [
    "plt.plot(preds)\n",
    "plt.plot(actions)"
   ]
  },
  {
   "cell_type": "code",
   "execution_count": null,
   "metadata": {},
   "outputs": [],
   "source": []
  }
 ],
 "metadata": {
  "kernelspec": {
   "display_name": "Python 3",
   "language": "python",
   "name": "python3"
  },
  "language_info": {
   "codemirror_mode": {
    "name": "ipython",
    "version": 3
   },
   "file_extension": ".py",
   "mimetype": "text/x-python",
   "name": "python",
   "nbconvert_exporter": "python",
   "pygments_lexer": "ipython3",
   "version": "3.6.8"
  }
 },
 "nbformat": 4,
 "nbformat_minor": 2
}

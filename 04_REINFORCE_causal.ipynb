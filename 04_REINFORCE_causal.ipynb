{
 "cells": [
  {
   "cell_type": "code",
   "execution_count": 1,
   "metadata": {},
   "outputs": [],
   "source": [
    "%load_ext autoreload\n",
    "%autoreload 2"
   ]
  },
  {
   "cell_type": "code",
   "execution_count": 2,
   "metadata": {},
   "outputs": [
    {
     "name": "stderr",
     "output_type": "stream",
     "text": [
      "Using TensorFlow backend.\n"
     ]
    }
   ],
   "source": [
    "from REINFORCE_helper import RunningVariance\n",
    "from time import time\n",
    "from REINFORCE_helper import BaseAgent\n",
    "from keras.models import Sequential\n",
    "from keras.layers import Dense\n",
    "from keras.optimizers import Adam, SGD\n",
    "import keras.backend as K\n",
    "import numpy as np"
   ]
  },
  {
   "cell_type": "code",
   "execution_count": 3,
   "metadata": {},
   "outputs": [],
   "source": [
    "class ReinforceAgent(BaseAgent):\n",
    "    # def __init__(self):\n",
    "    def get_policy_model(self, lr=0.001, hidden_layer_neurons = 128, input_shape=[4], output_shape=2):\n",
    "        ## Defino métrica - loss sin el retorno multiplicando\n",
    "        def loss_metric(y_true, y_pred):\n",
    "            y_true_norm = K.sign(y_true)\n",
    "            return K.categorical_crossentropy(y_true_norm, y_pred)\n",
    "        model = Sequential()\n",
    "        model.add(Dense(hidden_layer_neurons, input_shape=input_shape, activation='relu'))\n",
    "        model.add(Dense(output_shape, activation='softmax'))\n",
    "        ## Por que la categorical_crossentropy funciona ok?\n",
    "        model.compile(Adam(lr), loss=['categorical_crossentropy'], metrics=[loss_metric])\n",
    "        return model\n",
    "    \n",
    "    def get_action(self, eval=False):\n",
    "        p = self.model.predict([self.observation.reshape(1, self.nS)])\n",
    "        if eval is False:\n",
    "            action = np.random.choice(self.nA, p=p[0]) #np.nan_to_num(p[0])\n",
    "        else:\n",
    "            action = np.argmax(p[0])\n",
    "        action_one_hot = np.zeros(self.nA)\n",
    "        action_one_hot[action] = 1\n",
    "        return action, action_one_hot, p\n",
    "    \n",
    "    def get_entropy(self, preds, epsilon=1e-12):\n",
    "        entropy = np.mean(-np.sum(np.log(preds+epsilon)*preds, axis=1)/np.log(self.nA))\n",
    "        return entropy\n",
    "    \n",
    "    def get_discounted_rewards(self, r):\n",
    "        # Por si es una lista\n",
    "        r = np.array(r, dtype=float)\n",
    "        \"\"\"Take 1D float array of rewards and compute discounted reward \"\"\"\n",
    "        discounted_r = np.zeros_like(r)\n",
    "        running_add = 0\n",
    "        for t in reversed(range(0, r.size)):\n",
    "            running_add = running_add * self.gamma + r[t]\n",
    "            discounted_r[t] = running_add\n",
    "        return discounted_r "
   ]
  },
  {
   "cell_type": "code",
   "execution_count": 4,
   "metadata": {},
   "outputs": [
    {
     "name": "stdout",
     "output_type": "stream",
     "text": [
      "WARNING:tensorflow:From /home/usuario/anaconda3/envs/GPUV2/lib/python3.6/site-packages/tensorflow/python/framework/op_def_library.py:263: colocate_with (from tensorflow.python.framework.ops) is deprecated and will be removed in a future version.\n",
      "Instructions for updating:\n",
      "Colocations handled automatically by placer.\n"
     ]
    }
   ],
   "source": [
    "reinforce_agent = ReinforceAgent('CartPole-v1', n_experience_episodes=1, EPISODES=2000, epochs=1, lr=0.001, algorithm='REINFORCE_CAUSAL')"
   ]
  },
  {
   "cell_type": "code",
   "execution_count": 5,
   "metadata": {},
   "outputs": [],
   "source": [
    "obs, actions, preds, disc_sum_rews, rewards, ep_returns, ep_len, last_obs = reinforce_agent.get_experience_episodes()"
   ]
  },
  {
   "cell_type": "code",
   "execution_count": 6,
   "metadata": {},
   "outputs": [
    {
     "data": {
      "text/plain": [
       "array([46.88910312, 45.93503816, 44.98001818, 44.02404222, 43.06710933,\n",
       "       42.10921855, 41.15036892, 40.19055947, 39.22978926, 38.26805732,\n",
       "       37.30536268, 36.34170439, 35.37708147, 34.41149296, 33.4449379 ,\n",
       "       32.47741532, 31.50892424, 30.5394637 , 29.56903274, 28.59763037,\n",
       "       27.62525562, 26.65190753, 25.67758512, 24.7022874 , 23.72601342,\n",
       "       22.74876218, 21.77053271, 20.79132404, 19.81113517, 18.82996514,\n",
       "       17.84781295, 16.86467763, 15.88055818, 14.89545364, 13.909363  ,\n",
       "       12.92228529, 11.93421951, 10.94516467,  9.95511979,  8.96408387,\n",
       "        7.97205593,  6.97903497,  5.98501999,  4.99001   ,  3.994004  ,\n",
       "        2.997001  ,  1.999     ,  1.        ])"
      ]
     },
     "execution_count": 6,
     "metadata": {},
     "output_type": "execute_result"
    }
   ],
   "source": [
    "disc_sum_rews"
   ]
  },
  {
   "cell_type": "code",
   "execution_count": 7,
   "metadata": {},
   "outputs": [
    {
     "name": "stdout",
     "output_type": "stream",
     "text": [
      "WARNING:tensorflow:From /home/usuario/anaconda3/envs/GPUV2/lib/python3.6/site-packages/tensorflow/python/ops/math_ops.py:3066: to_int32 (from tensorflow.python.ops.math_ops) is deprecated and will be removed in a future version.\n",
      "Instructions for updating:\n",
      "Use tf.cast instead.\n",
      "correr en linea de comando: tensorboard --logdir logs/\n",
      "Episode: 50\n",
      "Model on episode 51 improved from -inf to 73.21903528338854. Saved!\n",
      "Episode: 102\n",
      "Model on episode 103 improved from 73.21903528338854 to 215.82383299474418. Saved!\n",
      "Episode: 206\n",
      "Model on episode 207 improved from 215.82383299474418 to 393.62105513881454. Saved!\n",
      "Episode: 310\n",
      "Model on episode 311 improved from 393.62105513881454 to 393.62105513881454. Saved!\n",
      "Episode: 414\n",
      "Model on episode 415 improved from 393.62105513881454 to 393.62105513881454. Saved!\n",
      "Episode: 466\n",
      "Model on episode 467 improved from 393.62105513881454 to 393.62105513881454. Saved!\n",
      "Episode: 570\n",
      "Model on episode 571 improved from 393.62105513881454 to 393.62105513881454. Saved!\n",
      "Episode: 622\n",
      "Model on episode 623 improved from 393.62105513881454 to 393.62105513881454. Saved!\n",
      "Episode: 674\n",
      "Model on episode 675 improved from 393.62105513881454 to 393.62105513881454. Saved!\n",
      "Episode: 778\n",
      "Model on episode 779 improved from 393.62105513881454 to 393.62105513881454. Saved!\n",
      "Episode: 830\n",
      "Model on episode 831 improved from 393.62105513881454 to 393.62105513881454. Saved!\n",
      "Episode: 882\n",
      "Model on episode 883 improved from 393.62105513881454 to 393.62105513881454. Saved!\n",
      "Episode: 934\n",
      "Model on episode 935 improved from 393.62105513881454 to 393.62105513881454. Saved!\n",
      "Episode: 986\n",
      "Model on episode 987 improved from 393.62105513881454 to 393.62105513881454. Saved!\n",
      "Episode: 1038\n",
      "Model on episode 1039 improved from 393.62105513881454 to 393.62105513881454. Saved!\n",
      "Episode: 1090\n",
      "Model on episode 1091 improved from 393.62105513881454 to 393.62105513881454. Saved!\n",
      "Episode: 1246\n",
      "Model on episode 1247 improved from 393.62105513881454 to 393.62105513881454. Saved!\n",
      "Episode: 1298\n",
      "Model on episode 1299 improved from 393.62105513881454 to 393.62105513881454. Saved!\n",
      "Episode: 1350\n",
      "Model on episode 1351 improved from 393.62105513881454 to 393.62105513881454. Saved!\n",
      "Episode: 1402\n",
      "Model on episode 1403 improved from 393.62105513881454 to 393.62105513881454. Saved!\n",
      "Episode: 1454\n",
      "Model on episode 1455 improved from 393.62105513881454 to 393.62105513881454. Saved!\n",
      "Episode: 1506\n",
      "Model on episode 1507 improved from 393.62105513881454 to 393.62105513881454. Saved!\n",
      "Episode: 1558\n",
      "Model on episode 1559 improved from 393.62105513881454 to 393.62105513881454. Saved!\n",
      "Episode: 1610\n",
      "Model on episode 1611 improved from 393.62105513881454 to 393.62105513881454. Saved!\n",
      "Episode: 1662\n",
      "Model on episode 1663 improved from 393.62105513881454 to 393.62105513881454. Saved!\n",
      "Episode: 1714\n",
      "Model on episode 1715 improved from 393.62105513881454 to 393.62105513881454. Saved!\n",
      "Episode: 1766\n",
      "Model on episode 1767 improved from 393.62105513881454 to 393.62105513881454. Saved!\n",
      "Episode: 1818\n",
      "Model on episode 1819 improved from 393.62105513881454 to 393.62105513881454. Saved!\n",
      "Episode: 1870\n",
      "Model on episode 1871 improved from 393.62105513881454 to 393.62105513881454. Saved!\n",
      "Episode: 1922\n",
      "Model on episode 1923 improved from 393.62105513881454 to 393.62105513881454. Saved!\n",
      "Episode: 1974\n",
      "Model on episode 1975 improved from 393.62105513881454 to 393.62105513881454. Saved!\n",
      "Episode: 2000"
     ]
    }
   ],
   "source": [
    "# reinforce_agent = ReinforceAgent('Acrobot-v1', n_experience_episodes=1, EPISODES=2000, epochs=1, lr=0.001, algorithm='REINFORCE_CAUSAL')\n",
    "# reinforce_agent = ReinforceAgent('LunarLander-v2', n_experience_episodes=50, EPISODES=2000, epochs=5, lr=0.0001, algorithm='REINFORCE_CAUSAL')\n",
    "reinforce_agent = ReinforceAgent('CartPole-v1', n_experience_episodes=1, EPISODES=2000, epochs=1, lr=0.001, algorithm='REINFORCE_CAUSAL')\n",
    "\n",
    "initial_time = time()\n",
    "running_variance = RunningVariance()\n",
    "\n",
    "\n",
    "while reinforce_agent.episode < reinforce_agent.EPISODES:\n",
    "    obs, actions, preds, disc_sum_rews, rewards, ep_returns, ep_len, last_obs = reinforce_agent.get_experience_episodes()\n",
    "    \n",
    "    for dr in disc_sum_rews:\n",
    "        running_variance.add(dr)\n",
    "\n",
    "    pseudolabels = actions*disc_sum_rews.reshape(-1, 1)\n",
    "\n",
    "    history = reinforce_agent.model.fit(obs, pseudolabels, verbose=0, epochs=reinforce_agent.epochs, batch_size=128)\n",
    "    \n",
    "    reinforce_agent.log_data(reinforce_agent.episode, \n",
    "                      history.history['loss'][0], \n",
    "                      np.mean(ep_len), \n",
    "                      reinforce_agent.get_entropy(preds), \n",
    "                      running_variance.get_variance(), \n",
    "                      history.history['loss_metric'][0], \n",
    "                      time() - initial_time, np.mean(ep_returns[-1]))"
   ]
  },
  {
   "cell_type": "code",
   "execution_count": null,
   "metadata": {},
   "outputs": [],
   "source": []
  }
 ],
 "metadata": {
  "kernelspec": {
   "display_name": "Python 3",
   "language": "python",
   "name": "python3"
  },
  "language_info": {
   "codemirror_mode": {
    "name": "ipython",
    "version": 3
   },
   "file_extension": ".py",
   "mimetype": "text/x-python",
   "name": "python",
   "nbconvert_exporter": "python",
   "pygments_lexer": "ipython3",
   "version": "3.6.8"
  }
 },
 "nbformat": 4,
 "nbformat_minor": 2
}
